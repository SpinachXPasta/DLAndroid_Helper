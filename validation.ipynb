{
 "cells": [
  {
   "cell_type": "code",
   "execution_count": 9,
   "metadata": {},
   "outputs": [],
   "source": [
    "import pandas as pd\n",
    "import numpy as np\n",
    "import matplotlib.pyplot as plt"
   ]
  },
  {
   "cell_type": "code",
   "execution_count": 10,
   "metadata": {},
   "outputs": [],
   "source": [
    "import cv2\n",
    "import os"
   ]
  },
  {
   "cell_type": "code",
   "execution_count": 11,
   "metadata": {},
   "outputs": [
    {
     "name": "stdout",
     "output_type": "stream",
     "text": [
      "0.25.1\n",
      "1.17.2\n",
      "4.2.0\n"
     ]
    }
   ],
   "source": [
    "print (pd.__version__)\n",
    "print (np.__version__)\n",
    "print (cv2.__version__)"
   ]
  },
  {
   "cell_type": "markdown",
   "metadata": {},
   "source": [
    "### Validate there are only 3 different classes"
   ]
  },
  {
   "cell_type": "code",
   "execution_count": 12,
   "metadata": {},
   "outputs": [
    {
     "name": "stdout",
     "output_type": "stream",
     "text": [
      "Good labels  {16.0, 17.0, 18.0}\n"
     ]
    }
   ],
   "source": [
    "validation1 = []\n",
    "for i in os.listdir(\"anote\"):\n",
    "    if \".txt\" in i:\n",
    "        f = np.loadtxt(\"anote/\"+i)\n",
    "        validator =  len(f.shape)\n",
    "        if validator > 1:\n",
    "            for j in f:\n",
    "                validation1.append(j)\n",
    "        else:\n",
    "            validation1.append(f)\n",
    "validation1 = np.array(validation1)\n",
    "if len(set(validation1[:,0])) != 3:\n",
    "    print (\"Label Mismatch\", set(validation1[:,0]))\n",
    "else:\n",
    "    print (\"Good labels \", set(validation1[:,0]))"
   ]
  },
  {
   "cell_type": "markdown",
   "metadata": {},
   "source": [
    "## Fix labels and copy them into obj folder"
   ]
  },
  {
   "cell_type": "code",
   "execution_count": 13,
   "metadata": {},
   "outputs": [],
   "source": [
    "mappings = {'16':'0', '17':'1', '18':'2'}"
   ]
  },
  {
   "cell_type": "code",
   "execution_count": 14,
   "metadata": {},
   "outputs": [],
   "source": [
    "for i in os.listdir(\"anote\"):\n",
    "    if \".txt\" in i:\n",
    "        with open(\"anote/\"+i, 'r') as read_file:\n",
    "            f = read_file.read()\n",
    "        with open(\"obj/\"+i,'w') as write_file:\n",
    "            newdoc = \"\"\n",
    "            for lines in f.split(\"\\n\"):\n",
    "                if lines != '':\n",
    "                    to_be_replaced = mappings[lines[0:2]]\n",
    "                    newdoc += to_be_replaced + lines[2:]\n",
    "                    newdoc += \"\\n\"\n",
    "            write_file.write(newdoc)"
   ]
  },
  {
   "cell_type": "markdown",
   "metadata": {},
   "source": [
    "### Validate labels match"
   ]
  },
  {
   "cell_type": "code",
   "execution_count": 15,
   "metadata": {},
   "outputs": [
    {
     "name": "stdout",
     "output_type": "stream",
     "text": [
      "Valid\n"
     ]
    }
   ],
   "source": [
    "#This works because I have jpeg images\n",
    "group1 = set([i.split(\".tx\")[0] for i in os.listdir(\"obj\") if \".DS_Store\" not in i])\n",
    "group2 = set([i.split(\".jp\")[0].replace(\".png\",\"\") for i in os.listdir(\"RPS\") if \".DS_Store\" not in i])\n",
    "if len(group1) == len(group2) and len(group1 - group2) == 0:\n",
    "    print (\"Valid\")"
   ]
  },
  {
   "cell_type": "markdown",
   "metadata": {},
   "source": [
    "### Standerdise image names & filenames"
   ]
  },
  {
   "cell_type": "code",
   "execution_count": 16,
   "metadata": {},
   "outputs": [],
   "source": [
    "import re \n",
    "\n",
    "def sorted_nicely( l ): \n",
    "    convert = lambda text: int(text) if text.isdigit() else text \n",
    "    alphanum_key = lambda key: [ convert(c) for c in re.split('([0-9]+)', key) ] \n",
    "    return sorted(l, key = alphanum_key)"
   ]
  },
  {
   "cell_type": "code",
   "execution_count": 17,
   "metadata": {},
   "outputs": [],
   "source": [
    "images = sorted_nicely([i for i in os.listdir(\"RPS\") if \".DS_Store\" not in i])\n",
    "files = sorted_nicely([i for i in os.listdir(\"obj\") if \".DS_Store\" not in i])"
   ]
  },
  {
   "cell_type": "code",
   "execution_count": 18,
   "metadata": {},
   "outputs": [],
   "source": [
    "from shutil import copyfile"
   ]
  },
  {
   "cell_type": "code",
   "execution_count": 19,
   "metadata": {},
   "outputs": [],
   "source": [
    "for i,f,k in zip(images,files,range(len(images))):\n",
    "    new_ = \"file_\"+str(k)\n",
    "    os.rename(\"obj/\"+f,\"obj/\"+new_+\".txt\")\n",
    "    copyfile(\"RPS/\"+i, \"obj/\"+new_+\".jpg\")"
   ]
  },
  {
   "cell_type": "code",
   "execution_count": null,
   "metadata": {},
   "outputs": [],
   "source": []
  }
 ],
 "metadata": {
  "kernelspec": {
   "display_name": "Python 3",
   "language": "python",
   "name": "python3"
  },
  "language_info": {
   "codemirror_mode": {
    "name": "ipython",
    "version": 3
   },
   "file_extension": ".py",
   "mimetype": "text/x-python",
   "name": "python",
   "nbconvert_exporter": "python",
   "pygments_lexer": "ipython3",
   "version": "3.7.4"
  }
 },
 "nbformat": 4,
 "nbformat_minor": 2
}
